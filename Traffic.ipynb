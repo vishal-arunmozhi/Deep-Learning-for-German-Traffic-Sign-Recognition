{
 "cells": [
  {
   "cell_type": "code",
   "execution_count": null,
   "metadata": {
    "id": "HkhbnB0a0AUE"
   },
   "outputs": [],
   "source": [
    "import cv2\n",
    "import numpy as np\n",
    "import os\n",
    "import keras\n",
    "import tensorflow as tf\n",
    "import matplotlib.pyplot as plt\n",
    "import pandas as pd\n",
    "\n",
    "from sklearn.model_selection import train_test_split\n",
    "\n",
    "from keras import models, optimizers, callbacks\n",
    "from keras.layers import Conv2D, MaxPooling2D, Dense, Flatten, Dropout, BatchNormalization, ReLU\n",
    "from keras.regularizers import l2\n",
    "\n",
    "IMG_WIDTH = 32\n",
    "IMG_HEIGHT = 32\n",
    "NUM_CATEGORIES = 43"
   ]
  },
  {
   "cell_type": "code",
   "execution_count": null,
   "metadata": {
    "id": "3RGsDL2pmmdo"
   },
   "outputs": [],
   "source": [
    "# retrieving the labeled training images dataset\n",
    "!wget -q https://sid.erda.dk/public/archives/daaeac0d7ce1152aea9b61d9f1e19370/GTSRB_Final_Training_Images.zip\n",
    "!unzip -q GTSRB_Final_Training_Images.zip"
   ]
  },
  {
   "cell_type": "code",
   "execution_count": null,
   "metadata": {
    "id": "ySaVqnwCgvk3"
   },
   "outputs": [],
   "source": [
    "# retrieving unlabeled testing images dataset\n",
    "!wget -q https://sid.erda.dk/public/archives/daaeac0d7ce1152aea9b61d9f1e19370/GTSRB_Final_Test_Images.zip\n",
    "!unzip -q GTSRB_Final_Test_Images.zip"
   ]
  },
  {
   "cell_type": "code",
   "execution_count": null,
   "metadata": {
    "id": "608c49RdDMSI"
   },
   "outputs": [],
   "source": [
    "# retrieving the csv file that has the labels for test images\n",
    "!wget -q https://sid.erda.dk/public/archives/daaeac0d7ce1152aea9b61d9f1e19370/GTSRB_Final_Test_GT.zip\n",
    "!unzip -q GTSRB_Final_Test_GT.zip"
   ]
  },
  {
   "cell_type": "code",
   "execution_count": null,
   "metadata": {
    "colab": {
     "base_uri": "https://localhost:8080/"
    },
    "id": "ym9goUTX09-8",
    "outputId": "021e3be3-7141-4114-e7e3-4e7e31ddc6df"
   },
   "outputs": [
    {
     "name": "stdout",
     "output_type": "stream",
     "text": [
      "39209 training images and respective labels successfully loaded\n"
     ]
    }
   ],
   "source": [
    "# reading the .ppm files in training dataset using cv2 and resizing them\n",
    "data_dir = 'GTSRB/Final_Training/Images'\n",
    "\n",
    "train_images = []\n",
    "train_labels= []\n",
    "\n",
    "# iterating through subdirectories 0 to 42\n",
    "for class_dir in os.listdir(data_dir):\n",
    "    class_path = os.path.join(data_dir, class_dir)\n",
    "\n",
    "    if not os.path.isdir(class_path):\n",
    "        continue\n",
    "\n",
    "    class_label = int(class_dir) # converting directory name to an integer label\n",
    "\n",
    "    for image_filename in os.listdir(class_path):\n",
    "        image_path = os.path.join(class_path, image_filename)\n",
    "        image = cv2.imread(image_path)\n",
    "        if image is not None:\n",
    "            image = cv2.resize(image, (IMG_HEIGHT, IMG_WIDTH))\n",
    "            train_images.append(image)\n",
    "            train_labels.append(class_label)\n",
    "\n",
    "print(f\"{len(train_labels)} training images and respective labels successfully loaded\")"
   ]
  },
  {
   "cell_type": "code",
   "execution_count": null,
   "metadata": {
    "id": "9EigqOMPSYjd"
   },
   "outputs": [],
   "source": [
    "X_train = np.array(train_images, dtype=float)\n",
    "y_train = np.array(train_labels, dtype=float)\n",
    "\n",
    "# splitting 10% of training data into validation data\n",
    "X_train, X_val, y_train, y_val = train_test_split(\n",
    "    X_train, y_train, test_size=0.1, random_state=42\n",
    ")"
   ]
  },
  {
   "cell_type": "code",
   "execution_count": null,
   "metadata": {
    "id": "Vmi0GU2Dak15"
   },
   "outputs": [],
   "source": [
    "# reading the csv file and creating a dictionary mapping of test image filenames and their labels\n",
    "df = pd.read_csv('GT-final_test.csv', sep=';')\n",
    "mapping_df = df[['Filename', 'ClassId']]\n",
    "\n",
    "label_dict = mapping_df.set_index('Filename')['ClassId'].to_dict()"
   ]
  },
  {
   "cell_type": "code",
   "execution_count": null,
   "metadata": {
    "colab": {
     "base_uri": "https://localhost:8080/"
    },
    "id": "mmPqOS4Xg69C",
    "outputId": "e8195214-dbc5-4761-fe7f-e4c034578cbe"
   },
   "outputs": [
    {
     "name": "stdout",
     "output_type": "stream",
     "text": [
      "12630 test images and respective labels successfully loaded\n"
     ]
    }
   ],
   "source": [
    "# reading the .ppm files in test dataset using cv2 and resizing them\n",
    "test_dir = 'GTSRB/Final_Test/Images'\n",
    "\n",
    "test_images = []\n",
    "test_labels = []\n",
    "\n",
    "for image_filename in os.listdir(test_dir):\n",
    "    if not image_filename.endswith(\".ppm\"):\n",
    "        continue\n",
    "\n",
    "    image_path = os.path.join(test_dir, image_filename)\n",
    "    image = cv2.imread(image_path)\n",
    "    image = cv2.resize(image, (IMG_HEIGHT, IMG_WIDTH))\n",
    "    test_images.append(image)\n",
    "\n",
    "    label = label_dict[image_filename]\n",
    "    test_labels.append(label)\n",
    "\n",
    "print(f\"{len(test_labels)} test images and respective labels successfully loaded\")\n",
    "\n",
    "X_test = np.array(test_images, dtype=float)\n",
    "y_test = np.array(test_labels, dtype=float)"
   ]
  },
  {
   "cell_type": "code",
   "execution_count": null,
   "metadata": {
    "id": "LoAjXDMxO29B"
   },
   "outputs": [],
   "source": [
    "# normalizing the images\n",
    "X_train /= 255.0\n",
    "X_val /= 255.0\n",
    "X_test /= 255.0\n",
    "\n",
    "# one-hot encoding integer labels\n",
    "y_train = keras.utils.to_categorical(y_train)\n",
    "y_val = keras.utils.to_categorical(y_val)\n",
    "y_test = keras.utils.to_categorical(y_test)"
   ]
  },
  {
   "cell_type": "code",
   "execution_count": null,
   "metadata": {
    "id": "8OO5-ZTr7yA1"
   },
   "outputs": [],
   "source": [
    "def build_model():\n",
    "    layers = [\n",
    "        Conv2D(32, (3,3), padding='same', input_shape=(IMG_HEIGHT, IMG_WIDTH, 3)),\n",
    "        BatchNormalization(),\n",
    "        ReLU(),\n",
    "        Conv2D(32, (3,3), padding='same'),\n",
    "        BatchNormalization(),\n",
    "        ReLU(),\n",
    "\n",
    "        MaxPooling2D((2,2)),\n",
    "\n",
    "        Conv2D(64, (3,3), padding='same'),\n",
    "        BatchNormalization(),\n",
    "        ReLU(),\n",
    "        Conv2D(64, (3,3), padding='same'),\n",
    "        BatchNormalization(),\n",
    "        ReLU(),\n",
    "\n",
    "        MaxPooling2D((2,2)),\n",
    "\n",
    "        Conv2D(128, (3,3), padding='same'),\n",
    "        BatchNormalization(),\n",
    "        ReLU(),\n",
    "        Conv2D(128, (3,3), padding='same'),\n",
    "        BatchNormalization(),\n",
    "        ReLU(),\n",
    "\n",
    "        MaxPooling2D((2, 2)),\n",
    "        Flatten(),\n",
    "\n",
    "        Dense(32),\n",
    "        BatchNormalization(),\n",
    "        ReLU(),\n",
    "        Dropout(0.4),\n",
    "\n",
    "        Dense(NUM_CATEGORIES, activation='softmax')\n",
    "    ]\n",
    "\n",
    "    model = keras.models.Sequential(layers)\n",
    "    model.compile(optimizer=optimizers.Adam(0.001), loss='categorical_crossentropy', metrics=['accuracy'])\n",
    "\n",
    "    return model"
   ]
  },
  {
   "cell_type": "code",
   "execution_count": null,
   "metadata": {
    "id": "-waUURdU0_mL"
   },
   "outputs": [],
   "source": [
    "# defining callbacks for model checkpointing and learning rate scheduler\n",
    "checkpoint_callback = callbacks.ModelCheckpoint(filepath='best_model_weights.h5',\n",
    "                                                monitor='val_loss',\n",
    "                                                save_best_only=True,\n",
    "                                                save_weights_only=True,\n",
    "                                                verbose=0)\n",
    "\n",
    "def lr_schedule(epoch, current_lr):\n",
    "    if epoch in [10, 20]:\n",
    "        return 0.5 * current_lr\n",
    "    else:\n",
    "        return current_lr\n",
    "\n",
    "lr_scheduler = callbacks.LearningRateScheduler(lr_schedule, verbose=0)"
   ]
  },
  {
   "cell_type": "code",
   "execution_count": null,
   "metadata": {
    "colab": {
     "base_uri": "https://localhost:8080/"
    },
    "id": "wlFYt9AXq1SQ",
    "outputId": "6160f600-6082-4450-bd87-a334cea387d6"
   },
   "outputs": [
    {
     "name": "stdout",
     "output_type": "stream",
     "text": [
      "Epoch 1/30\n",
      "552/552 - 18s - loss: 1.3789 - accuracy: 0.6884 - val_loss: 0.1825 - val_accuracy: 0.9788 - lr: 0.0010 - 18s/epoch - 32ms/step\n",
      "Epoch 2/30\n",
      "552/552 - 7s - loss: 0.2892 - accuracy: 0.9394 - val_loss: 0.0306 - val_accuracy: 0.9962 - lr: 0.0010 - 7s/epoch - 13ms/step\n",
      "Epoch 3/30\n",
      "552/552 - 5s - loss: 0.1594 - accuracy: 0.9627 - val_loss: 0.0135 - val_accuracy: 0.9982 - lr: 0.0010 - 5s/epoch - 10ms/step\n",
      "Epoch 4/30\n",
      "552/552 - 6s - loss: 0.1157 - accuracy: 0.9698 - val_loss: 0.0117 - val_accuracy: 0.9972 - lr: 0.0010 - 6s/epoch - 11ms/step\n",
      "Epoch 5/30\n",
      "552/552 - 6s - loss: 0.0921 - accuracy: 0.9749 - val_loss: 0.0066 - val_accuracy: 0.9987 - lr: 0.0010 - 6s/epoch - 10ms/step\n",
      "Epoch 6/30\n",
      "552/552 - 5s - loss: 0.0847 - accuracy: 0.9749 - val_loss: 0.0045 - val_accuracy: 0.9985 - lr: 0.0010 - 5s/epoch - 10ms/step\n",
      "Epoch 7/30\n",
      "552/552 - 6s - loss: 0.0708 - accuracy: 0.9784 - val_loss: 0.0080 - val_accuracy: 0.9990 - lr: 0.0010 - 6s/epoch - 11ms/step\n",
      "Epoch 8/30\n",
      "552/552 - 5s - loss: 0.0644 - accuracy: 0.9805 - val_loss: 0.0041 - val_accuracy: 0.9982 - lr: 0.0010 - 5s/epoch - 10ms/step\n",
      "Epoch 9/30\n",
      "552/552 - 6s - loss: 0.0580 - accuracy: 0.9814 - val_loss: 0.0015 - val_accuracy: 0.9997 - lr: 0.0010 - 6s/epoch - 11ms/step\n",
      "Epoch 10/30\n",
      "552/552 - 5s - loss: 0.0540 - accuracy: 0.9833 - val_loss: 0.0034 - val_accuracy: 0.9990 - lr: 0.0010 - 5s/epoch - 10ms/step\n",
      "Epoch 11/30\n",
      "552/552 - 6s - loss: 0.0416 - accuracy: 0.9869 - val_loss: 7.5959e-04 - val_accuracy: 0.9997 - lr: 5.0000e-04 - 6s/epoch - 10ms/step\n",
      "Epoch 12/30\n",
      "552/552 - 5s - loss: 0.0407 - accuracy: 0.9865 - val_loss: 7.2398e-04 - val_accuracy: 0.9997 - lr: 5.0000e-04 - 5s/epoch - 10ms/step\n",
      "Epoch 13/30\n",
      "552/552 - 5s - loss: 0.0355 - accuracy: 0.9885 - val_loss: 0.0017 - val_accuracy: 0.9992 - lr: 5.0000e-04 - 5s/epoch - 10ms/step\n",
      "Epoch 14/30\n",
      "552/552 - 6s - loss: 0.0358 - accuracy: 0.9882 - val_loss: 0.0013 - val_accuracy: 0.9997 - lr: 5.0000e-04 - 6s/epoch - 11ms/step\n",
      "Epoch 15/30\n",
      "552/552 - 5s - loss: 0.0366 - accuracy: 0.9878 - val_loss: 0.0013 - val_accuracy: 0.9997 - lr: 5.0000e-04 - 5s/epoch - 10ms/step\n",
      "Epoch 16/30\n",
      "552/552 - 6s - loss: 0.0355 - accuracy: 0.9885 - val_loss: 0.0013 - val_accuracy: 0.9995 - lr: 5.0000e-04 - 6s/epoch - 11ms/step\n",
      "Epoch 17/30\n",
      "552/552 - 5s - loss: 0.0353 - accuracy: 0.9884 - val_loss: 0.0052 - val_accuracy: 0.9990 - lr: 5.0000e-04 - 5s/epoch - 10ms/step\n",
      "Epoch 18/30\n",
      "552/552 - 6s - loss: 0.0330 - accuracy: 0.9883 - val_loss: 8.5481e-04 - val_accuracy: 0.9997 - lr: 5.0000e-04 - 6s/epoch - 11ms/step\n",
      "Epoch 19/30\n",
      "552/552 - 5s - loss: 0.0330 - accuracy: 0.9888 - val_loss: 0.0014 - val_accuracy: 0.9997 - lr: 5.0000e-04 - 5s/epoch - 10ms/step\n",
      "Epoch 20/30\n",
      "552/552 - 6s - loss: 0.0359 - accuracy: 0.9877 - val_loss: 0.0044 - val_accuracy: 0.9987 - lr: 5.0000e-04 - 6s/epoch - 10ms/step\n",
      "Epoch 21/30\n",
      "552/552 - 6s - loss: 0.0309 - accuracy: 0.9891 - val_loss: 6.7877e-04 - val_accuracy: 0.9997 - lr: 2.5000e-04 - 6s/epoch - 10ms/step\n",
      "Epoch 22/30\n",
      "552/552 - 5s - loss: 0.0279 - accuracy: 0.9905 - val_loss: 6.0622e-04 - val_accuracy: 0.9997 - lr: 2.5000e-04 - 5s/epoch - 10ms/step\n",
      "Epoch 23/30\n",
      "552/552 - 6s - loss: 0.0296 - accuracy: 0.9895 - val_loss: 5.4232e-04 - val_accuracy: 0.9997 - lr: 2.5000e-04 - 6s/epoch - 11ms/step\n",
      "Epoch 24/30\n",
      "552/552 - 5s - loss: 0.0278 - accuracy: 0.9899 - val_loss: 7.5396e-04 - val_accuracy: 0.9997 - lr: 2.5000e-04 - 5s/epoch - 10ms/step\n",
      "Epoch 25/30\n",
      "552/552 - 6s - loss: 0.0270 - accuracy: 0.9902 - val_loss: 4.6556e-04 - val_accuracy: 0.9997 - lr: 2.5000e-04 - 6s/epoch - 11ms/step\n",
      "Epoch 26/30\n",
      "552/552 - 5s - loss: 0.0270 - accuracy: 0.9906 - val_loss: 5.0394e-04 - val_accuracy: 0.9997 - lr: 2.5000e-04 - 5s/epoch - 10ms/step\n",
      "Epoch 27/30\n",
      "552/552 - 6s - loss: 0.0280 - accuracy: 0.9897 - val_loss: 4.9143e-04 - val_accuracy: 0.9997 - lr: 2.5000e-04 - 6s/epoch - 10ms/step\n",
      "Epoch 28/30\n",
      "552/552 - 6s - loss: 0.0279 - accuracy: 0.9899 - val_loss: 4.8850e-04 - val_accuracy: 0.9997 - lr: 2.5000e-04 - 6s/epoch - 10ms/step\n",
      "Epoch 29/30\n",
      "552/552 - 5s - loss: 0.0284 - accuracy: 0.9900 - val_loss: 7.2664e-04 - val_accuracy: 0.9997 - lr: 2.5000e-04 - 5s/epoch - 10ms/step\n",
      "Epoch 30/30\n",
      "552/552 - 6s - loss: 0.0277 - accuracy: 0.9904 - val_loss: 3.0922e-04 - val_accuracy: 1.0000 - lr: 2.5000e-04 - 6s/epoch - 11ms/step\n"
     ]
    }
   ],
   "source": [
    "model = build_model()\n",
    "\n",
    "history = model.fit(X_train, y_train, validation_data=(X_val, y_val), epochs=30, batch_size=64, verbose=2, callbacks=[lr_scheduler, checkpoint_callback])"
   ]
  },
  {
   "cell_type": "code",
   "execution_count": null,
   "metadata": {
    "colab": {
     "base_uri": "https://localhost:8080/",
     "height": 410
    },
    "id": "vLu8RQXMf6fM",
    "outputId": "6e2b64cd-f632-4584-f59d-2815827ac834"
   },
   "outputs": [
    {
     "data": {
      "image/png": "[encoded data removed]",
      "text/plain": [
       "<Figure size 400x400 with 1 Axes>"
      ]
     },
     "metadata": {},
     "output_type": "display_data"
    }
   ],
   "source": [
    "# plotting training loss and validation loss\n",
    "training_loss = history.history['loss']\n",
    "validation_loss = history.history['val_loss']\n",
    "\n",
    "epochs = list(range(1, len(training_loss) + 1))\n",
    "\n",
    "plt.figure(figsize=(4, 4))\n",
    "plt.plot(epochs, training_loss, label='Training Loss')\n",
    "plt.plot(epochs, validation_loss, label='Validation Loss')\n",
    "plt.title('Training and Validation Loss')\n",
    "plt.xlabel('Epochs')\n",
    "plt.ylabel('Loss')\n",
    "plt.legend()\n",
    "plt.show()"
   ]
  },
  {
   "cell_type": "code",
   "execution_count": null,
   "metadata": {
    "colab": {
     "base_uri": "https://localhost:8080/"
    },
    "id": "mosQ84ntq1SS",
    "outputId": "f745665e-4aa8-40e6-ef98-78ff82dcdd60"
   },
   "outputs": [
    {
     "name": "stdout",
     "output_type": "stream",
     "text": [
      "395/395 - 2s - loss: 0.0297 - accuracy: 0.9924 - 2s/epoch - 4ms/step\n",
      "The model has achieved a test accuracy of 99.24%\n"
     ]
    }
   ],
   "source": [
    "# loading the model with best weights and evaluating it on test data\n",
    "model.load_weights('best_model_weights.h5')\n",
    "loss, accuracy = model.evaluate(X_test, y_test, verbose=2)\n",
    "\n",
    "print(f\"The model has achieved a test accuracy of {100 * accuracy:.2f}%\")"
   ]
  },
  {
   "cell_type": "code",
   "execution_count": null,
   "metadata": {
    "id": "W2ZbX-nWRm6I"
   },
   "outputs": [],
   "source": [
    "# function takes integer labels and integer predictions as input and returns a dictionary containing class-wise accuracy\n",
    "def calc_accuracy(int_predictions, int_labels):\n",
    "    # converting numpy arrays to lists\n",
    "    int_predictions = int_predictions.tolist()\n",
    "    int_labels = int_labels.tolist()\n",
    "\n",
    "    # dictionary to store class-wise accuracy\n",
    "    accuracy_dict = {}\n",
    "\n",
    "    # iterating through each of the 43 classes\n",
    "    for i in range(43):\n",
    "        correct = 0\n",
    "        # counting total number of labels belonging to that particular class\n",
    "        count = int_labels.count(i)\n",
    "        if count == 0:\n",
    "            continue\n",
    "\n",
    "        for pred, label in zip(int_predictions, int_labels):\n",
    "            if pred == i and pred == label:\n",
    "                correct += 1\n",
    "\n",
    "        class_accuracy = correct/count\n",
    "\n",
    "        accuracy_dict[str(i)] = class_accuracy\n",
    "\n",
    "    return accuracy_dict"
   ]
  },
  {
   "cell_type": "code",
   "execution_count": null,
   "metadata": {
    "colab": {
     "base_uri": "https://localhost:8080/"
    },
    "id": "7hU7-pkML0QQ",
    "outputId": "32891578-1c4e-4527-81eb-d28563938e37"
   },
   "outputs": [
    {
     "name": "stdout",
     "output_type": "stream",
     "text": [
      "395/395 [==============================] - 3s 3ms/step\n",
      "0 - 1.0\n",
      "1 - 1.0\n",
      "2 - 0.9973333333333333\n",
      "3 - 0.9755555555555555\n",
      "4 - 0.9939393939393939\n",
      "5 - 0.9936507936507937\n",
      "6 - 0.92\n",
      "7 - 0.9977777777777778\n",
      "8 - 0.9733333333333334\n",
      "9 - 1.0\n",
      "10 - 0.996969696969697\n",
      "11 - 0.9928571428571429\n",
      "12 - 0.9898550724637681\n",
      "13 - 0.9972222222222222\n",
      "14 - 1.0\n",
      "15 - 1.0\n",
      "16 - 0.9933333333333333\n",
      "17 - 1.0\n",
      "18 - 0.9923076923076923\n",
      "19 - 1.0\n",
      "20 - 1.0\n",
      "21 - 0.9666666666666667\n",
      "22 - 0.9833333333333333\n",
      "23 - 1.0\n",
      "24 - 0.9777777777777777\n",
      "25 - 0.9854166666666667\n",
      "26 - 0.9944444444444445\n",
      "27 - 1.0\n",
      "28 - 1.0\n",
      "29 - 1.0\n",
      "30 - 0.9133333333333333\n",
      "31 - 1.0\n",
      "32 - 1.0\n",
      "33 - 1.0\n",
      "34 - 1.0\n",
      "35 - 1.0\n",
      "36 - 1.0\n",
      "37 - 1.0\n",
      "38 - 0.9985507246376811\n",
      "39 - 1.0\n",
      "40 - 0.9777777777777777\n",
      "41 - 0.9833333333333333\n",
      "42 - 1.0\n"
     ]
    }
   ],
   "source": [
    "y_pred = model.predict(X_test)\n",
    "\n",
    "# convert one-hot encoded labels and predictions back to integer format\n",
    "y_test_int = np.argmax(y_test, axis=1)\n",
    "y_pred_int = np.argmax(y_pred, axis=1)\n",
    "\n",
    "# calling the calc_accuracy function to calculate the class-wise accuracy scores\n",
    "accuracy_dict = calc_accuracy(y_pred_int, y_test_int)\n",
    "\n",
    "for key, value in accuracy_dict.items():\n",
    "    print(key, \"-\", value)"
   ]
  }
 ],
 "metadata": {
  "accelerator": "GPU",
  "colab": {
   "gpuType": "T4",
   "provenance": []
  },
  "kernelspec": {
   "display_name": "Python 3 (ipykernel)",
   "language": "python",
   "name": "python3"
  },
  "language_info": {
   "codemirror_mode": {
    "name": "ipython",
    "version": 3
   },
   "file_extension": ".py",
   "mimetype": "text/x-python",
   "name": "python",
   "nbconvert_exporter": "python",
   "pygments_lexer": "ipython3",
   "version": "3.11.4"
  }
 },
 "nbformat": 4,
 "nbformat_minor": 4
}
